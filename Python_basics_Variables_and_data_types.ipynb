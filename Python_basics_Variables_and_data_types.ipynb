{
  "nbformat": 4,
  "nbformat_minor": 0,
  "metadata": {
    "colab": {
      "provenance": [],
      "authorship_tag": "ABX9TyMwtyyEqB3HLYIzRhIfwP73"
    },
    "kernelspec": {
      "name": "python3",
      "display_name": "Python 3"
    },
    "language_info": {
      "name": "python"
    }
  },
  "cells": [
    {
      "cell_type": "markdown",
      "source": [
        "# **Variables and Data types**\n",
        "\n",
        "This notebook goes through the basics variables and data types in python."
      ],
      "metadata": {
        "id": "qettkHxY9efh"
      }
    },
    {
      "cell_type": "markdown",
      "source": [
        "**Variables**\n",
        "\n",
        "In Python, a variable is a name that refers to a value. It can also be thought of as a container that holds some information. Variables make it easy to work with data in your programs."
      ],
      "metadata": {
        "id": "Q7cU5beg944I"
      }
    },
    {
      "cell_type": "code",
      "source": [
        "# Creating a variable\n",
        "x = 5\n",
        "name = \"Lerissa\"\n",
        "is_happy = True"
      ],
      "metadata": {
        "id": "BrYmjIwM-F_d"
      },
      "execution_count": 1,
      "outputs": []
    },
    {
      "cell_type": "code",
      "source": [
        "# Printing a variable\n",
        "print(name)"
      ],
      "metadata": {
        "colab": {
          "base_uri": "https://localhost:8080/"
        },
        "id": "IyNY5C68-Kre",
        "outputId": "9ceab8c6-42d7-4289-bf01-b80cc8628640"
      },
      "execution_count": 4,
      "outputs": [
        {
          "output_type": "stream",
          "name": "stdout",
          "text": [
            "Lerissa\n"
          ]
        }
      ]
    },
    {
      "cell_type": "markdown",
      "source": [
        "**Data Types**\n",
        "\n",
        "Data types specify the kind of value a variable holds. Python has several built-in data types, including:\n",
        "\n",
        "\n",
        "Integers(int): Whole numbers, like 5, -10, 100.\n",
        "\n",
        "Floats (float): Numbers with decimal points, like 3.14, 0.001, -15.6.\n",
        "\n",
        "Strings (str): Sequences of characters, like \"Hello, World!\", \"Python\".\n",
        "\n",
        "Booleans (bool): Logical values, True or False."
      ],
      "metadata": {
        "id": "jyrYD30O9pXq"
      }
    },
    {
      "cell_type": "markdown",
      "source": [
        "**Type Checking and Conversion**\n",
        "\n",
        "You can check the type of a variable using the type() function and convert between types using functions like int(), float(), str(), etc."
      ],
      "metadata": {
        "id": "ua346TQL-6we"
      }
    },
    {
      "cell_type": "code",
      "execution_count": 6,
      "metadata": {
        "colab": {
          "base_uri": "https://localhost:8080/"
        },
        "id": "0Fcm_FCy9OuE",
        "outputId": "54929c53-fa83-4c61-ea5f-cf45670765f6"
      },
      "outputs": [
        {
          "output_type": "stream",
          "name": "stdout",
          "text": [
            "<class 'int'>\n",
            "<class 'float'>\n",
            "<class 'str'>\n"
          ]
        }
      ],
      "source": [
        "x = 10\n",
        "print(type(x))\n",
        "\n",
        "y = 3.14\n",
        "print(type(y))\n",
        "\n",
        "z = \"123\"\n",
        "print(type(z))"
      ]
    },
    {
      "cell_type": "code",
      "source": [
        "# Type conversion\n",
        "z_int = int(z)  # Convert string \"123\" to integer 123\n",
        "print(type(z_int))"
      ],
      "metadata": {
        "colab": {
          "base_uri": "https://localhost:8080/"
        },
        "id": "jOK8xHcE_KvC",
        "outputId": "2b180b7a-a9c4-41f8-cd77-3a7615756006"
      },
      "execution_count": 7,
      "outputs": [
        {
          "output_type": "stream",
          "name": "stdout",
          "text": [
            "<class 'int'>\n"
          ]
        }
      ]
    },
    {
      "cell_type": "markdown",
      "source": [
        "**Adding Integers and Floats**\n",
        "\n",
        "Integers (int) and floats (float) can be added together directly. The result will be a float if at least one operand is a float; otherwise, it will be an integer."
      ],
      "metadata": {
        "id": "KQW6HsT5BBj3"
      }
    },
    {
      "cell_type": "code",
      "source": [
        "a = 10\n",
        "b = 7.2\n",
        "result = a + b\n",
        "\n",
        "print(result)"
      ],
      "metadata": {
        "colab": {
          "base_uri": "https://localhost:8080/"
        },
        "id": "5uhYNeGyAsb0",
        "outputId": "77a43114-1ded-4bdf-a25a-09a7b06b353a"
      },
      "execution_count": 9,
      "outputs": [
        {
          "output_type": "stream",
          "name": "stdout",
          "text": [
            "17.2\n"
          ]
        }
      ]
    },
    {
      "cell_type": "markdown",
      "source": [
        "**Adding Strings**\n",
        "\n",
        "Strings (str) can be added together using the + operator, which concatenates (joins) them."
      ],
      "metadata": {
        "id": "y04OVQ8SBi-n"
      }
    },
    {
      "cell_type": "code",
      "source": [
        "a = \"My name is\"\n",
        "b = \"Lerissa\"\n",
        "\n",
        "greeting = a + \" \" + b\n",
        "\n",
        "print(greeting)"
      ],
      "metadata": {
        "colab": {
          "base_uri": "https://localhost:8080/"
        },
        "id": "BhHSzRaRBmVQ",
        "outputId": "026c7c2c-ed88-4a4d-a7b8-508a9688b2d1"
      },
      "execution_count": 13,
      "outputs": [
        {
          "output_type": "stream",
          "name": "stdout",
          "text": [
            "My name is Lerissa\n"
          ]
        }
      ]
    },
    {
      "cell_type": "markdown",
      "source": [
        "**NB.** Adding Incompatible Types: You cannot add together variables of incompatible types directly (e.g., an integer and a string). Doing so will result in a TypeError. Variables can be converted to compatible data types to avoid errors."
      ],
      "metadata": {
        "id": "wFClHPZDCDKV"
      }
    },
    {
      "cell_type": "code",
      "source": [
        "x = 5\n",
        "y = \"10\"\n",
        "\n",
        "sum = x + int(y)\n",
        "\n",
        "print(type(x))\n",
        "print(type(y))\n",
        "print(type(sum))\n",
        "print(sum)"
      ],
      "metadata": {
        "colab": {
          "base_uri": "https://localhost:8080/"
        },
        "id": "WhIx_0wRBdim",
        "outputId": "93ba63a5-eba5-4c83-d362-170336dc3d5b"
      },
      "execution_count": 17,
      "outputs": [
        {
          "output_type": "stream",
          "name": "stdout",
          "text": [
            "<class 'int'>\n",
            "<class 'str'>\n",
            "<class 'int'>\n",
            "15\n"
          ]
        }
      ]
    },
    {
      "cell_type": "code",
      "source": [],
      "metadata": {
        "id": "76fT18_GCRr4"
      },
      "execution_count": 14,
      "outputs": []
    }
  ]
}