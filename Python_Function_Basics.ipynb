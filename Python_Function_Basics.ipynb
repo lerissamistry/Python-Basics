{
  "nbformat": 4,
  "nbformat_minor": 0,
  "metadata": {
    "colab": {
      "provenance": [],
      "authorship_tag": "ABX9TyPILONMEdacktUhX1I/W63S"
    },
    "kernelspec": {
      "name": "python3",
      "display_name": "Python 3"
    },
    "language_info": {
      "name": "python"
    }
  },
  "cells": [
    {
      "cell_type": "markdown",
      "source": [
        "**What is a Function?**\n",
        "\n",
        "A function in Python is a block of reusable code that performs a specific task. Functions help you organise your code, avoid repetition, and make your code easier to understand.\n",
        "\n",
        "**Defining a Function**\n",
        "\n",
        "In Python, you define a function using the def keyword, followed by the function name and parentheses (). Inside the parentheses, you can define parameters (inputs to the function). The function body, where the code to be executed is written, is indented under the def statement.\n",
        "\n",
        "Here's a simple example of a function that adds two numbers:"
      ],
      "metadata": {
        "id": "SPlEE_ZieyIZ"
      }
    },
    {
      "cell_type": "code",
      "source": [
        "def add_numbers(a, b):\n",
        "    result = a + b\n",
        "    return result"
      ],
      "metadata": {
        "id": "kWfWNVZEe1J5"
      },
      "execution_count": 1,
      "outputs": []
    },
    {
      "cell_type": "code",
      "source": [
        "add_numbers(3,5)"
      ],
      "metadata": {
        "colab": {
          "base_uri": "https://localhost:8080/"
        },
        "id": "VSQiEQ4mfBKJ",
        "outputId": "9ac0be46-f22a-46f2-c430-fc170b68ab18"
      },
      "execution_count": 2,
      "outputs": [
        {
          "output_type": "execute_result",
          "data": {
            "text/plain": [
              "8"
            ]
          },
          "metadata": {},
          "execution_count": 2
        }
      ]
    },
    {
      "cell_type": "markdown",
      "source": [
        "**Functions with Default Arguments**\n",
        "\n",
        "You can provide default values for parameters. If the caller does not provide a value for these parameters, the default values are used."
      ],
      "metadata": {
        "id": "xsTzw0LpfQ0f"
      }
    },
    {
      "cell_type": "code",
      "source": [
        "def greet(name=\"Guest\"):\n",
        "    return f\"Hello, {name}!\""
      ],
      "metadata": {
        "id": "D88UpD0XfTXM"
      },
      "execution_count": 18,
      "outputs": []
    },
    {
      "cell_type": "code",
      "source": [
        "# Calling the function without an argument\n",
        "print(greet())\n",
        "\n",
        "# Calling the function with an argument\n",
        "print(greet(\"Lerissa\"))"
      ],
      "metadata": {
        "colab": {
          "base_uri": "https://localhost:8080/"
        },
        "id": "jnGJL9FopRTJ",
        "outputId": "11f2d7ff-c208-47e7-f1f1-1a471bf70618"
      },
      "execution_count": 19,
      "outputs": [
        {
          "output_type": "stream",
          "name": "stdout",
          "text": [
            "Hello, Guest!\n",
            "Hello, Lerissa!\n"
          ]
        }
      ]
    },
    {
      "cell_type": "markdown",
      "source": [
        "**Functions with Multiple Return Values**\n",
        "\n",
        "Python functions can also return multiple values by returning them as a tuple.\n",
        "\n",
        "Example:"
      ],
      "metadata": {
        "id": "6HNrJCRXfp9d"
      }
    },
    {
      "cell_type": "code",
      "source": [
        "def calculate(a, b):\n",
        "    sum = a + b\n",
        "    difference = a - b\n",
        "    return sum, difference"
      ],
      "metadata": {
        "id": "z7GUPyEDfafN"
      },
      "execution_count": 7,
      "outputs": []
    },
    {
      "cell_type": "code",
      "source": [
        "result = calculate(10, 5)\n",
        "print(result)"
      ],
      "metadata": {
        "colab": {
          "base_uri": "https://localhost:8080/"
        },
        "id": "MXepg-21f4lb",
        "outputId": "0170b25f-289a-4fb7-d0fd-cf0e6216b0b0"
      },
      "execution_count": 8,
      "outputs": [
        {
          "output_type": "stream",
          "name": "stdout",
          "text": [
            "(15, 5)\n"
          ]
        }
      ]
    },
    {
      "cell_type": "code",
      "source": [
        "type(result)"
      ],
      "metadata": {
        "colab": {
          "base_uri": "https://localhost:8080/"
        },
        "id": "9FzzafbQm11G",
        "outputId": "9d555170-3829-4fd8-d6d7-219bcfcfc810"
      },
      "execution_count": 17,
      "outputs": [
        {
          "output_type": "execute_result",
          "data": {
            "text/plain": [
              "tuple"
            ]
          },
          "metadata": {},
          "execution_count": 17
        }
      ]
    },
    {
      "cell_type": "code",
      "source": [
        "# You can also unpack the results into separate variables\n",
        "sum, difference = calculate(10, 5)\n",
        "print(sum)\n",
        "print(difference)"
      ],
      "metadata": {
        "colab": {
          "base_uri": "https://localhost:8080/"
        },
        "id": "IwPmx0Q6hFFA",
        "outputId": "f34b3faa-85a8-45f1-ebd8-c1af1792fbc4"
      },
      "execution_count": 9,
      "outputs": [
        {
          "output_type": "stream",
          "name": "stdout",
          "text": [
            "15\n",
            "5\n"
          ]
        }
      ]
    },
    {
      "cell_type": "markdown",
      "source": [
        "**Function Documentation (Docstrings)**\n",
        "\n",
        "You can add a documentation string (docstring) to a function to describe what it does. This can be useful for anyone who reads your code. The docstring can be accessed to see what the function does."
      ],
      "metadata": {
        "id": "-bqXGhyLhMa5"
      }
    },
    {
      "cell_type": "code",
      "source": [
        "def addition(x, y):\n",
        "  \"\"\"Add two numbers and return the result.\"\"\"\n",
        "  return x + y"
      ],
      "metadata": {
        "id": "UEPF35ovhbkr"
      },
      "execution_count": 13,
      "outputs": []
    },
    {
      "cell_type": "code",
      "source": [
        "# Accessing the docstring\n",
        "print(addition.__doc__)"
      ],
      "metadata": {
        "colab": {
          "base_uri": "https://localhost:8080/"
        },
        "id": "0pvJedoHh1ks",
        "outputId": "1e2743f8-12c0-43f7-e435-e85b0b1190b4"
      },
      "execution_count": 14,
      "outputs": [
        {
          "output_type": "stream",
          "name": "stdout",
          "text": [
            "Add two numbers and return the result.\n"
          ]
        }
      ]
    },
    {
      "cell_type": "markdown",
      "source": [
        "You can also have multi-line docstrings:"
      ],
      "metadata": {
        "id": "sW7xlsZniV6e"
      }
    },
    {
      "cell_type": "code",
      "source": [
        "def multiply(x, y):\n",
        "  \"\"\"Multiply two numbers\n",
        "  and return the result.\n",
        "  This is a multi-line docstring.\n",
        "  \"\"\"\n",
        "  return x + y"
      ],
      "metadata": {
        "id": "sVbT4kuKh4hs"
      },
      "execution_count": 15,
      "outputs": []
    },
    {
      "cell_type": "code",
      "source": [
        "# Accessing the docstring\n",
        "print(multiply.__doc__)"
      ],
      "metadata": {
        "colab": {
          "base_uri": "https://localhost:8080/"
        },
        "id": "7A_Zw5jPiiNe",
        "outputId": "d36e80c5-6aec-4e28-e8c0-45c86d29dcb9"
      },
      "execution_count": 16,
      "outputs": [
        {
          "output_type": "stream",
          "name": "stdout",
          "text": [
            "Multiply two numbers \n",
            "  and return the result.\n",
            "  This is a multi-line docstring.\n",
            "  \n"
          ]
        }
      ]
    },
    {
      "cell_type": "code",
      "source": [],
      "metadata": {
        "id": "ouVnL7yFikNj"
      },
      "execution_count": null,
      "outputs": []
    }
  ]
}